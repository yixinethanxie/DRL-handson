{
 "cells": [
  {
   "cell_type": "markdown",
   "metadata": {},
   "source": [
    "## Toy example - random action, random reward"
   ]
  },
  {
   "cell_type": "code",
   "execution_count": 2,
   "metadata": {},
   "outputs": [
    {
     "name": "stdout",
     "output_type": "stream",
     "text": [
      "Total reward got: 3.51\n"
     ]
    }
   ],
   "source": [
    "import random\n",
    "\n",
    "class Environment:\n",
    "    def __init__(self):\n",
    "        self.steps_left=10\n",
    "    def get_observation(self):\n",
    "        return [0.,0.,0.]\n",
    "    def get_actions(self):\n",
    "        return [0,1]\n",
    "    def is_done(self):\n",
    "        return self.steps_left==0\n",
    "    def action(self,action):\n",
    "        if self.is_done():\n",
    "            raise Exception(\"Game is over\")\n",
    "        self.steps_left-=1\n",
    "        return random.random()\n",
    "\n",
    "class Agent:\n",
    "    def __init__(self):\n",
    "        self.total_reward=0.\n",
    "    def step(self,env):\n",
    "        current_obs=env.get_observation() # Observe the environment\n",
    "        actions=env.get_actions() # Make a decision about the aciton to take based on the observations\n",
    "        reward=env.action(random.choice(actions)) # Submit the action to the environment\n",
    "        self.total_reward+=reward # Get the reward for the current step\n",
    "        \n",
    "env=Environment()\n",
    "agent=Agent()\n",
    "\n",
    "while not env.is_done():\n",
    "    agent.step(env)\n",
    "\n",
    "print(f\"Total reward got: {round(agent.total_reward,2)}\")"
   ]
  },
  {
   "cell_type": "markdown",
   "metadata": {},
   "source": [
    "## OpenAI Gym API"
   ]
  },
  {
   "cell_type": "code",
   "execution_count": 3,
   "metadata": {},
   "outputs": [],
   "source": [
    "import gym"
   ]
  },
  {
   "cell_type": "markdown",
   "metadata": {},
   "source": [
    "### Toy example"
   ]
  },
  {
   "cell_type": "code",
   "execution_count": 4,
   "metadata": {},
   "outputs": [
    {
     "name": "stdout",
     "output_type": "stream",
     "text": [
      "Episode done in 16 steps, total reward 16\n"
     ]
    }
   ],
   "source": [
    "env=gym.make(\"CartPole-v0\")\n",
    "total_reward=0.\n",
    "total_steps=0\n",
    "obs=env.reset()\n",
    "while True:\n",
    "    action=env.action_space.sample()\n",
    "    obs,reward,done,_=env.step(action)\n",
    "    total_reward+=reward\n",
    "    total_steps+=1\n",
    "    if done:\n",
    "        break\n",
    "print(f\"Episode done in {total_steps} steps, total reward {int(total_reward)}\")"
   ]
  },
  {
   "cell_type": "markdown",
   "metadata": {},
   "source": [
    "### Wrapper"
   ]
  },
  {
   "cell_type": "code",
   "execution_count": 19,
   "metadata": {},
   "outputs": [
    {
     "name": "stdout",
     "output_type": "stream",
     "text": [
      "Random obs!\n",
      "Random action!\n",
      "Reward got: 9.0\n"
     ]
    }
   ],
   "source": [
    "import random\n",
    "class RandomActionWrapper(gym.ActionWrapper):\n",
    "    def __init__(self,env,epsilon=0.1):\n",
    "        super(RandomActionWrapper,self).__init__(env)\n",
    "        self.epsilon=epsilon\n",
    "    def action(self,action):\n",
    "        if random.random() < self.epsilon:\n",
    "            print(\"Random action!\")\n",
    "            return self.env.action_space.sample()\n",
    "        return action\n",
    "\n",
    "class RandomObservationWrapper(gym.ObservationWrapper):\n",
    "    def __init__(self,env,epsilon=0.1):\n",
    "        super(RandomObservationWrapper,self).__init__(env)\n",
    "        self.epsilon=epsilon\n",
    "    def observation(self,obs):\n",
    "        if random.random()<self.epsilon:\n",
    "            print(\"Random obs!\")\n",
    "            return self.env.observation_space.sample()\n",
    "        return obs\n",
    "    \n",
    "env=RandomObservationWrapper(RandomActionWrapper(gym.make(\"CartPole-v0\")))\n",
    "obs=env.reset()\n",
    "total_reward=0.\n",
    "while True:\n",
    "    obs,reward,done,_=env.step(0)\n",
    "    total_reward += reward\n",
    "    if done:\n",
    "        break\n",
    "print(f\"Reward got: {round(total_reward,2)}\")"
   ]
  },
  {
   "cell_type": "code",
   "execution_count": null,
   "metadata": {},
   "outputs": [],
   "source": []
  }
 ],
 "metadata": {
  "kernelspec": {
   "display_name": "Python 3",
   "language": "python",
   "name": "python3"
  },
  "language_info": {
   "codemirror_mode": {
    "name": "ipython",
    "version": 3
   },
   "file_extension": ".py",
   "mimetype": "text/x-python",
   "name": "python",
   "nbconvert_exporter": "python",
   "pygments_lexer": "ipython3",
   "version": "3.6.6"
  }
 },
 "nbformat": 4,
 "nbformat_minor": 2
}
