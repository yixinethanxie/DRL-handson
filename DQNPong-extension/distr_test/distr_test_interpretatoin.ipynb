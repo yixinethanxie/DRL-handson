{
 "cells": [
  {
   "cell_type": "code",
   "execution_count": 6,
   "metadata": {},
   "outputs": [],
   "source": [
    "import matplotlib.pyplot as plt\n",
    "import numpy as np\n",
    "\n",
    "def distr_projection(next_distr, rewards, dones,Vmin,Vmax,n_atoms, gamma):\n",
    "    batch_size=len(rewards)\n",
    "    proj_distr=np.zeros((batch_size, n_atoms), dtype=np.float32)\n",
    "    delta_z=(Vmax-Vmin)/(n_atoms-1)\n",
    "    \n",
    "    for atom in range(n_atoms):\n",
    "        '''\n",
    "        line below makes sure that the value is with the range (Vmin,Vmax),\n",
    "        if reward is out of the range, just clip it to the side\n",
    "        '''\n",
    "        tz_j=np.minimum(Vmax,np.maximum(Vmin,rewards+(Vmin+atom*delta_z)*gamma))\n",
    "        b_j=(tz_j-Vmin)/delta_z\n",
    "        l=np.floor(b_j).astype(np.int64)\n",
    "        u=np.ceil(b_j).astype(np.int64)\n",
    "        \n",
    "        '''\n",
    "        if reward falls exactly on an atom, just add to the current value\n",
    "        '''\n",
    "        eq_mask=u==l\n",
    "        proj_distr[eq_mask,l[eq_mask]]+=next_distr[eq_mask, atom]\n",
    "        \n",
    "        '''\n",
    "        if reward doesn't fall on any atom, \n",
    "        spread the value to the two closest atoms, by its distance to the atoms\n",
    "        '''\n",
    "        ne_mask=u!=l\n",
    "        proj_distr[ne_mask, l[ne_mask]]+=next_distr[ne_mask, atom]*(u-b_j)[ne_mask] \n",
    "        proj_distr[ne_mask, u[ne_mask]]+=next_distr[ne_mask, atom]*(b_j-l)[ne_mask]\n",
    "        \n",
    "        \n",
    "    '''\n",
    "    if done, the reward should be on one atom\n",
    "    '''\n",
    "    if dones.any():\n",
    "        proj_distr[dones]=0.\n",
    "        tz_j=np.minimum(Vmax,np.maximum(Vmin,rewards[dones]))\n",
    "        b_j=(tz_j-Vmin)/delta_z\n",
    "        l=np.floor(b_j).astype(np.int64)\n",
    "        u=np.ceil(b_j).astype(np.int64)\n",
    "        \n",
    "        eq_mask=u==l\n",
    "        eq_dones=dones.copy()\n",
    "        eq_dones[dones]=eq_mask\n",
    "        if eq_dones.any():\n",
    "            proj_distr[eq_dones,l]=1.\n",
    "\n",
    "        ne_mask=u!=l\n",
    "        ne_dones=dones.copy()\n",
    "        ne_dones[dones]=ne_mask\n",
    "        if ne_dones.any():\n",
    "            proj_distr[ne_dones,l]=(u-b_j)[ne_mask]\n",
    "            proj_distr[ne_dones,u]=(b_j-l)[ne_mask]\n",
    "     \n",
    "    return proj_distr\n",
    "\n",
    "Vmax=10\n",
    "Vmin=-10\n",
    "N_ATOMS=51\n",
    "DELTA_Z=(Vmax-Vmin)/(N_ATOMS-1)\n",
    "\n",
    "def save_distr(src,proj,name):\n",
    "    plt.clf()\n",
    "    p=np.arange(Vmin,Vmax+DELTA_Z,DELTA_Z)\n",
    "    plt.subplot(2,1,1)\n",
    "    plt.bar(p,src,width=0.5)\n",
    "    plt.title(\"Source\")\n",
    "    plt.subplot(2,1,2)\n",
    "    plt.bar(p,proj,width=0.5)\n",
    "    plt.title(\"Projected\")\n",
    "    plt.savefig(name+\".png\")"
   ]
  },
  {
   "cell_type": "code",
   "execution_count": 5,
   "metadata": {},
   "outputs": [
    {
     "data": {
      "image/png": "[encoded data removed]",
      "text/plain": [
       "<Figure size 432x288 with 2 Axes>"
      ]
     },
     "metadata": {
      "needs_background": "light"
     },
     "output_type": "display_data"
    }
   ],
   "source": [
    "np.random.seed(123)\n",
    "atoms=np.arange(Vmin,Vmax+DELTA_Z,DELTA_Z)\n",
    "\n",
    "#src_hist=np.zeros(shape=(1,N_ATOMS),dtype=np.float32)\n",
    "#src_hist[0,N_ATOMS//2+1]=1.0\n",
    "#proj_hist=distr_projection(src_hist, np.array([2], dtype=np.float32),np.array([False]), Vmin,Vmax,N_ATOMS,gamma=0.9)\n",
    "#save_distr(src_hist[0],proj_hist[0],\"peak-r=2\")\n",
    "\n",
    "data=np.random.normal(size=1000,scale=3)\n",
    "hist=np.histogram(data,density=True,bins=np.arange(Vmin-DELTA_Z/2,Vmax+DELTA_Z*3/2,DELTA_Z))\n",
    "src_hist=hist[0]\n",
    "proj_hist=distr_projection(np.array([src_hist, src_hist]), np.array([10,10],dtype=np.float32), np.array([False,True]), Vmin,Vmax,N_ATOMS,gamma=0.9)\n",
    "save_distr(src_hist,proj_hist[0],\"plots/both_clip-right-01-incomplete\")\n",
    "save_distr(src_hist,proj_hist[1],\"plots/both_clip-right-02-complete\")"
   ]
  },
  {
   "cell_type": "code",
   "execution_count": null,
   "metadata": {},
   "outputs": [],
   "source": []
  }
 ],
 "metadata": {
  "kernelspec": {
   "display_name": "Python 3",
   "language": "python",
   "name": "python3"
  },
  "language_info": {
   "codemirror_mode": {
    "name": "ipython",
    "version": 3
   },
   "file_extension": ".py",
   "mimetype": "text/x-python",
   "name": "python",
   "nbconvert_exporter": "python",
   "pygments_lexer": "ipython3",
   "version": "3.6.5"
  }
 },
 "nbformat": 4,
 "nbformat_minor": 2
}
